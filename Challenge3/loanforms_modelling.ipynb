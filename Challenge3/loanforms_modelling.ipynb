{
 "cells": [
  {
   "cell_type": "markdown",
   "metadata": {},
   "source": [
    "# Challenge 03: Data Modelling: From Retrieval to Upload (1/2)"
   ]
  },
  {
   "cell_type": "markdown",
   "metadata": {},
   "source": [
    "In this step, we will structure the data retrieved from Azure Document Intelligence (ADI) into the right format to be read by our systems in subsequent steps. \n",
    "\n",
    "The data will be outputted from the ADI as a JSON file, and it is our role to process and organize it. Some of the data will be structured into tables, while other data will be formatted as text. This step ensures that the extracted information is organized in a meaningful way for further analysis and usage.\n",
    "\n",
    "As stated before, we need to make sure that our Function will know how to process:\n",
    "- **Loan Forms:** Extract relevant details such as borrower information, loan amounts, and terms.\n",
    "- **Loan Contract:** Identify and parse key contract elements like clauses, signatures, and dates.\n",
    "- **Pay Stubs:** Retrieve data such as employee details, earnings, deductions, and net pay.\n",
    "\n",
    "Not all customers will have provided all types of content, and during this Challenge we will be only be processing one file. We will combine in the next challenge the capabilities of a trigger, which will, at a time, also process one single document.\n",
    "\n",
    "Due to the nature of this challenge, we will separate this challenge in the 3 different types of documents."
   ]
  },
  {
   "cell_type": "markdown",
   "metadata": {},
   "source": [
    "## Loan Forms "
   ]
  },
  {
   "cell_type": "markdown",
   "metadata": {},
   "source": [
    "The first step to get a Loan, is to fill out a form with some basic details, such as customer ID, Full Name, Date Of Birth, etc, therefore, that's where we will start. \n",
    "\n",
    "This particular document combines text and tables, that the ADI capabilities allow you to extract as also separate capabilities.\n",
    "\n",
    "To first start our analysis, let's create a function that will load the documents inside a folder inside a container that is, on its turn, inside our designated Storage Account. In our particular step, inside the folder of the Loan Forms, we will retrieve one Loan Form for us to analyse. \n",
    "\n",
    "We will consequently use this same function to access other folders that will contain other type of documents.\n"
   ]
  },
  {
   "cell_type": "markdown",
   "metadata": {},
   "source": [
    "**Question: why are we not batch-analysing documents?**\n"
   ]
  },
  {
   "cell_type": "code",
   "execution_count": 1,
   "metadata": {},
   "outputs": [],
   "source": [
    "import os\n",
    "import json\n",
    "from azure.storage.blob import BlobServiceClient\n",
    "from dotenv import load_dotenv\n",
    "\n",
    "# Load environment variables from .env file\n",
    "load_dotenv()\n",
    "\n",
    "def read_json_files_from_blob(folder_path):\n",
    "    # Retrieve the connection string from the environment variables\n",
    "    connection_string = os.getenv('STORAGE_CONNECTION_STRING')\n",
    "\n",
    "    # Ensure the connection string is not None\n",
    "    if connection_string is None:\n",
    "        raise ValueError(\"The connection string environment variable is not set.\")\n",
    "\n",
    "    # Create a BlobServiceClient\n",
    "    blob_service_client = BlobServiceClient.from_connection_string(connection_string)\n",
    "\n",
    "    # Get the container client\n",
    "    container_client = blob_service_client.get_container_client(\"data\")\n",
    "\n",
    "    # List all blobs in the specified folder\n",
    "    blob_list = container_client.list_blobs(name_starts_with=folder_path)\n",
    "\n",
    "    # Filter out JSON files and read their contents\n",
    "    for blob in blob_list:\n",
    "        if blob.name.endswith('.json'):\n",
    "            blob_client = container_client.get_blob_client(blob.name)\n",
    "            blob_data = blob_client.download_blob().readall()\n",
    "            data = json.loads(blob_data)\n",
    "            # print(f\"Contents of {blob.name}:\")\n",
    "            # print(json.dumps(data, indent=2))\n",
    "            # print(\"\\n\")\n",
    "            return data "
   ]
  },
  {
   "cell_type": "markdown",
   "metadata": {},
   "source": [
    "Now all we have to do is to call our function and pass the name of our folder as an argument"
   ]
  },
  {
   "cell_type": "code",
   "execution_count": 2,
   "metadata": {},
   "outputs": [],
   "source": [
    "loanform = read_json_files_from_blob(\"loanform\") ## RETIRAR PARA ELES PERCEBEREM OQ TAO A FAZER"
   ]
  },
  {
   "cell_type": "markdown",
   "metadata": {},
   "source": [
    "The next step is to create a function that will process the loan application form data. This function will take the loan application form data as input and return the result of the loan application processing. Our input data is a JSON file that is composed of both text and tables, and we will need to treat both of them seperatly.  \n",
    "\n",
    "The function will perform the following steps:"
   ]
  },
  {
   "cell_type": "markdown",
   "metadata": {},
   "source": [
    "The create_structured_tables function processes a list of tables by initializing and populating them with cell content, combining specific rows for tables with 3 rows and 5 columns, and returning the structured tables along with any combined rows."
   ]
  },
  {
   "cell_type": "code",
   "execution_count": 3,
   "metadata": {},
   "outputs": [],
   "source": [
    "def create_structured_tables(tables):\n",
    "    structured_tables = []\n",
    "    combined_rows = []\n",
    "    \n",
    "    for table in tables:\n",
    "        row_count = table.get(\"row_count\", 0)\n",
    "        column_count = table.get(\"column_count\", 0)\n",
    "        cells = table.get(\"cells\", [])\n",
    "        \n",
    "        # Initialize an empty table\n",
    "        structured_table = [[\"\" for _ in range(column_count)] for _ in range(row_count)]\n",
    "        \n",
    "        # Populate the table with cell content\n",
    "        for cell in cells:\n",
    "            row_index = cell.get(\"row_index\", 0)\n",
    "            column_index = cell.get(\"column_index\", 0)\n",
    "            content = cell.get(\"content\", \"\")\n",
    "            structured_table[row_index][column_index] = content\n",
    "        \n",
    "        # Combine the last row with the previous one if the table has 5 columns and 3 rows\n",
    "        if row_count == 3 and column_count == 5:\n",
    "            combined_row = [structured_table[1][i] + \" \" + structured_table[2][i] for i in range(column_count)]\n",
    "            structured_table[1] = combined_row\n",
    "            structured_table = structured_table[:2]\n",
    "            combined_rows.append(combined_row)\n",
    "        \n",
    "        # Append the structured table to the list\n",
    "        structured_tables.append(structured_table)\n",
    "    \n",
    "    return structured_tables, combined_rows"
   ]
  },
  {
   "cell_type": "markdown",
   "metadata": {},
   "source": [
    "The clean_form_recognizer_result function processes form recognizer output by extracting text data while ignoring lines containing the word \"table\", retaining only the \"text\" key in each line, and creating structured tables from the table data."
   ]
  },
  {
   "cell_type": "code",
   "execution_count": 4,
   "metadata": {},
   "outputs": [],
   "source": [
    "def clean_form_recognizer_result(data):\n",
    "    text_data = []\n",
    "    table_encountered = False\n",
    "    \n",
    "    for page in data.get(\"pages\", []):\n",
    "        for line in page.get(\"lines\", []):\n",
    "            # Check if the line contains the word \"table\"\n",
    "            if \"table\" in line.get(\"text\", \"\").lower():\n",
    "                table_encountered = True\n",
    "                continue  # Skip the line if \"table\" is in the text\n",
    "            \n",
    "            if not table_encountered:\n",
    "                # Collect the \"text\" information\n",
    "                text_data.append(line.get(\"text\", \"\"))\n",
    "            \n",
    "            # Keep only the \"text\" key\n",
    "            line_keys = list(line.keys())\n",
    "            for key in line_keys:\n",
    "                if key != \"text\":\n",
    "                    del line[key]\n",
    "    \n",
    "    # Create structured tables\n",
    "    structured_tables, combined_rows = create_structured_tables(data.get(\"tables\", []))\n",
    "    data[\"structured_tables\"] = structured_tables\n",
    "    data[\"combined_rows\"] = combined_rows\n",
    "    data[\"text_data\"] = text_data\n",
    "    \n",
    "    return data"
   ]
  },
  {
   "cell_type": "markdown",
   "metadata": {},
   "source": [
    "The tables_to_dataframes function converts a list of structured tables into a list of pandas DataFrames."
   ]
  },
  {
   "cell_type": "code",
   "execution_count": 5,
   "metadata": {},
   "outputs": [],
   "source": [
    "import pandas as pd\n",
    "def tables_to_dataframes(structured_tables):\n",
    "    dataframes = []\n",
    "    for table in structured_tables:\n",
    "        df = pd.DataFrame(table)\n",
    "        dataframes.append(df)\n",
    "    return dataframes"
   ]
  },
  {
   "cell_type": "markdown",
   "metadata": {},
   "source": [
    "We have now retrieved both our table with the structured desired and the text that comes out of our files. However, this function doesn't have the data as structured as we need it to be. \n",
    "\n",
    "As an example, we have by now extracted a key-value pair which keys is \"text\" with the value \"Contact Number: (555) 234-5678\". What we will need to define now is to remove the name of the field, and start composing the key-value pair that would be key \"Contact Number:\" and value \"(555) 234-5678\""
   ]
  },
  {
   "cell_type": "code",
   "execution_count": 6,
   "metadata": {},
   "outputs": [
    {
     "name": "stdout",
     "output_type": "stream",
     "text": [
      "Successfully converted to JSON object:\n",
      "[\n",
      "    {\n",
      "        \"id\": \"100001\",\n",
      "        \"Full Name\": \"Jane Elizabeth Smith\",\n",
      "        \"Date of Birth\": \"08/22/1990\",\n",
      "        \"Social Security Number\": \"987-65-4321\",\n",
      "        \"Contact Number\": \"(555) 234-5678\",\n",
      "        \"Email Address\": \"jane.smith90@example.com\",\n",
      "        \"Physical Address\": \"456 Oak Avenue Unit 10 Madison WI 53703\",\n",
      "        \"Loan Amount Requested\": \"30000\",\n",
      "        \"Purpose of Loan\": \"Vehicle Purchase\",\n",
      "        \"Loan Term Desired\": \"5 years Applicant's Signature: Jz\",\n",
      "        \"Employer Name\": \"Horizon Retailers\",\n",
      "        \"Position\": \"Store Manager \",\n",
      "        \"Employment Duration\": \"3 years \",\n",
      "        \"Monthly Income\": \"$4583.33 \",\n",
      "        \"Employer Contact Number\": \"(555) 789- 2345\"\n",
      "    }\n",
      "]\n",
      "Extracted id: 100001\n"
     ]
    }
   ],
   "source": [
    "import pandas as pd\n",
    "import re \n",
    "\n",
    "def clean_loan_application_file(text):\n",
    "    cleaned_data = {}\n",
    "\n",
    "    # Extract the category from the first three words\n",
    "    category_match = re.search(r'(\\w+\\s+\\w+\\s+\\w+)', text)\n",
    "    if category_match:\n",
    "        cleaned_data['Category'] = category_match.group(1)\n",
    "    \n",
    "    # Extract Applicant Information\n",
    "    applicant_info = re.search(r'Applicant Information(.*?)Employment and Income Details', text, re.DOTALL)\n",
    "    if applicant_info:\n",
    "        applicant_info_text = applicant_info.group(1)\n",
    "        cleaned_data['Applicant Information'] = {\n",
    "            'id': re.search(r'Customer ID:\\s*(.*?)Full Name:', applicant_info_text, re.DOTALL).group(1).strip(),\n",
    "            'Full Name': re.search(r'Full Name:\\s*(.*?)Date of Birth:', applicant_info_text, re.DOTALL).group(1).strip(),\n",
    "            'Date of Birth': re.search(r'Date of Birth:\\s*(.*?)Social Security Number:', applicant_info_text, re.DOTALL).group(1).strip(),\n",
    "            'Social Security Number': re.search(r'Social Security Number:\\s*(.*?)Contact Number:', applicant_info_text, re.DOTALL).group(1).strip(),\n",
    "            'Contact Number': re.search(r'Contact Number:\\s*(.*?)Email Address:', applicant_info_text, re.DOTALL).group(1).strip(),\n",
    "            'Email Address': re.search(r'Email Address:\\s*(.*?)Physical Address:', applicant_info_text, re.DOTALL).group(1).strip(),\n",
    "            'Physical Address': re.search(r'Physical Address:\\s*(.*)', applicant_info_text, re.DOTALL).group(1).strip(),\n",
    "        }\n",
    "\n",
    "    # Extract Loan Information\n",
    "    loan_info = re.search(r'Loan Information(.*)', text, re.DOTALL)\n",
    "    if loan_info:\n",
    "        loan_info_text = loan_info.group(1)\n",
    "        cleaned_data['Loan Information'] = {\n",
    "            'Loan Amount Requested': re.search(r'Loan Amount Requested:\\s*\\$?(.*?)Purpose of Loan:', loan_info_text, re.DOTALL).group(1).strip(),\n",
    "            'Purpose of Loan': re.search(r'Purpose of Loan:\\s*(.*?)Loan Term Desired:', loan_info_text, re.DOTALL).group(1).strip(),\n",
    "            'Loan Term Desired': re.search(r'Loan Term Desired:\\s*(.*)', loan_info_text, re.DOTALL).group(1).strip(),\n",
    "        }\n",
    "\n",
    "    return cleaned_data\n",
    "\n",
    "# Function to combine extracted tables and text\n",
    "def process_loan_application(data):\n",
    "    # Clean form recognizer result to extract structured tables and text\n",
    "    cleaned_data = clean_form_recognizer_result(data)\n",
    "    \n",
    "    # Convert extracted tables to dataframes\n",
    "    dataframes = tables_to_dataframes(cleaned_data[\"structured_tables\"]) \n",
    "    # Combine all table dataframes into one\n",
    "    combined_df = pd.concat(dataframes, ignore_index=True) \n",
    "    combined_df.columns = combined_df.iloc[0]\n",
    "    combined_df = combined_df[1:]\n",
    "    combined_df.reset_index(drop=True, inplace=True)\n",
    "    combined_df.rename(columns={\"Contact Number\": \"Employer Contact Number\"}, inplace=True)\n",
    "    combined_df = combined_df.dropna(how='all')\n",
    "\n",
    "    # Clean the extracted text using regex\n",
    "    combined_text = ' '.join(cleaned_data['text_data'])\n",
    "    text_data = clean_loan_application_file(combined_text)\n",
    "\n",
    "    def clean_loan_application(data):\n",
    "    # Extract applicant and loan info\n",
    "        applicant_info = data['Applicant Information']\n",
    "        loan_info = data['Loan Information']\n",
    "        \n",
    "        # Combine keys and values for the two categories\n",
    "        fields = list(applicant_info.keys()) + list(loan_info.keys())\n",
    "        values = list(applicant_info.values()) + list(loan_info.values())\n",
    "        \n",
    "        # Create the 2x10 DataFrame without 'Category'\n",
    "        df = pd.DataFrame({\n",
    "            'Field': fields,\n",
    "            'Value': values\n",
    "        })\n",
    "        \n",
    "        return df.set_index('Field').T\n",
    "\n",
    "    df_cleaned = clean_loan_application(text_data)\n",
    "\n",
    "    # Convert the text data to a DataFrame\n",
    "    text_df = pd.DataFrame(df_cleaned)\n",
    "\n",
    "    # Concatenate the text dataframe with the tables dataframe\n",
    "    final_df = pd.concat([text_df, combined_df], axis=1)\n",
    "\n",
    "    def remove_empty_cells_and_push_up(df):\n",
    "        for column in df.columns:\n",
    "            non_empty_values = df[column].replace('', pd.NA).dropna().values\n",
    "            df[column] = pd.Series(non_empty_values).reindex(df.index, fill_value='')\n",
    "        return df\n",
    "    return remove_empty_cells_and_push_up(final_df)\n",
    "\n",
    "# Process the loan application\n",
    "loanform_structured = process_loan_application(loanform).iloc[1:].reset_index(drop=True)\n",
    "loanform_structured.replace(\"Applicant's Signature:,\", '', regex=True, inplace=True)\n",
    "loanform_structured.replace(\"\\,\", '', regex=True,  inplace=True)\n",
    "\n",
    "# Convert DataFrame to JSON\n",
    "json_loanform = loanform_structured.to_json(orient=\"records\")\n",
    "\n",
    "# Convert JSON string to a Python dictionary\n",
    "data = json.loads(json_loanform)\n",
    "\n",
    "#Step 1: Remove unwanted characters (if necessary)\n",
    "cleaned_json = json_loanform.strip()\n",
    "\n",
    "# Step 2: Replace escaped characters\n",
    "cleaned_json = cleaned_json.replace('\\n', '').replace('\\t', '').replace('\\r', '')\n",
    "\n",
    "# Step 3: Load the cleaned string into a JSON object\n",
    "try:\n",
    "    json_data = json.loads(cleaned_json)\n",
    "    print(\"Successfully converted to JSON object:\")\n",
    "    print(json.dumps(json_data, indent=4))\n",
    "    customer_id = json_data[0].get('id')\n",
    "    print(f\"Extracted id: {customer_id}\")\n",
    "except json.JSONDecodeError as e:\n",
    "    print(f\"Error decoding JSON: {e}\")\n",
    "    print(\"Cleaned JSON string:\")\n",
    "    print(cleaned_json)"
   ]
  },
  {
   "cell_type": "markdown",
   "metadata": {},
   "source": [
    "# Challenge 03: Data Architecturing: From Retrieval to Upload (2/2)"
   ]
  },
  {
   "cell_type": "markdown",
   "metadata": {},
   "source": [
    "### Code"
   ]
  },
  {
   "cell_type": "code",
   "execution_count": 9,
   "metadata": {},
   "outputs": [],
   "source": [
    "from azure.cosmos import CosmosClient, exceptions, PartitionKey\n",
    "from dotenv import load_dotenv\n",
    "import os\n",
    "\n",
    "# Load environment variables from .env file\n",
    "load_dotenv()\n",
    "\n",
    "# Cosmos DB connection details from environment variables\n",
    "endpoint = os.getenv(\"COSMOS_ENDPOINT\")\n",
    "key = os.getenv(\"COSMOS_KEY\")\n",
    "\n",
    "def upload_text_to_cosmos_db(text_content, container_name):\n",
    "    # Check if the text is empty\n",
    "    if not text_content:\n",
    "        print(\"The text content is empty. No data to upload.\")\n",
    "        return\n",
    "    \n",
    "    # Initialize the Cosmos client\n",
    "    client = CosmosClient(endpoint, key)\n",
    "    \n",
    "    try:\n",
    "        # Create or get the database\n",
    "        database = client.create_database_if_not_exists(id=\"ContosoDB\")\n",
    "        \n",
    "        # Create or get the container\n",
    "        container = database.create_container_if_not_exists(\n",
    "            id=container_name,\n",
    "            partition_key=PartitionKey(path=f\"/id\"),\n",
    "            offer_throughput=400\n",
    "        )\n",
    "    except exceptions.CosmosHttpResponseError as e:\n",
    "        print(f\"An error occurred while creating the database or container: {e.message}\")\n",
    "        return\n",
    "    \n",
    "    # Create a document with the text content and partition key\n",
    "    document = {\n",
    "        'id': str(customer_id),  # Generate a unique ID for the document\n",
    "        'content': text_content,  # Store the plain text as 'content'\n",
    "    }\n",
    "    \n",
    "    # Upload the document to the container\n",
    "    try:\n",
    "        container.create_item(body=document)\n",
    "        print(f\"Text content uploaded successfully with ID '{document['id']}' in Cosmos DB.\")\n",
    "    except exceptions.CosmosHttpResponseError as e:\n",
    "        print(f\"An error occurred while uploading the document: {e.message}\")"
   ]
  },
  {
   "cell_type": "markdown",
   "metadata": {},
   "source": [
    "### Upload Loan Forms"
   ]
  },
  {
   "cell_type": "code",
   "execution_count": 8,
   "metadata": {},
   "outputs": [
    {
     "name": "stdout",
     "output_type": "stream",
     "text": [
      "Text content uploaded successfully with ID '100001' in Cosmos DB.\n"
     ]
    }
   ],
   "source": [
    "upload_text_to_cosmos_db(json_data, \"LoanForms\")"
   ]
  },
  {
   "cell_type": "code",
   "execution_count": null,
   "metadata": {},
   "outputs": [],
   "source": []
  }
 ],
 "metadata": {
  "kernelspec": {
   "display_name": "Python 3",
   "language": "python",
   "name": "python3"
  },
  "language_info": {
   "codemirror_mode": {
    "name": "ipython",
    "version": 3
   },
   "file_extension": ".py",
   "mimetype": "text/x-python",
   "name": "python",
   "nbconvert_exporter": "python",
   "pygments_lexer": "ipython3",
   "version": "3.11.10"
  }
 },
 "nbformat": 4,
 "nbformat_minor": 2
}
